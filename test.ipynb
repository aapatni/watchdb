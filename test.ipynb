{
 "cells": [
  {
   "cell_type": "code",
   "execution_count": 1,
   "metadata": {},
   "outputs": [],
   "source": [
    "import webtranspose as webt\n",
    "import os\n",
    "import json "
   ]
  },
  {
   "cell_type": "code",
   "execution_count": 13,
   "metadata": {},
   "outputs": [],
   "source": [
    "# # Crawl\n",
    "# crawl = webt.Crawl(\n",
    "#     'https://www.seikowatches.com/us-en/watchfinder?page=100',\n",
    "#     allowed_urls=[],\n",
    "#     banned_urls=[],\n",
    "#     max_pages=1,\n",
    "#     render_js=True,\n",
    "#     api_key=os.environ['WEBTRANSPOSE_API_KEY']\n",
    "# )\n",
    "\n",
    "# crawl.queue_crawl() # async\n",
    "\n",
    "# # crawl.crawl() # sync\n"
   ]
  },
  {
   "cell_type": "code",
   "execution_count": 4,
   "metadata": {},
   "outputs": [],
   "source": [
    "query = json.load(open('query_schema.json'))\n",
    "\n",
    "scraper = webt.Scraper(\n",
    "    query, \n",
    "    scraper_id='scrape single seiko page',\n",
    "    name='seiko_page_scraper',\n",
    "    render_js=True, \n",
    "    api_key=os.environ['WEBTRANSPOSE_API_KEY'], # optional, if you want to run on cloud\n",
    "    # proxy=True, # optional, if you want to use proxy\n",
    ") \n",
    "\n",
    "# out_json = scraper.scrape('https://www.seikowatches.com/us-en/products/presage/spb441j1')"
   ]
  },
  {
   "cell_type": "code",
   "execution_count": 2,
   "metadata": {},
   "outputs": [],
   "source": [
    "test_json = {'Brand': 'Seiko',\n",
    " 'Model': 'SPB441J1',\n",
    " 'Reference Number': 'SPB441J1',\n",
    " 'Case Material': 'Stainless steel (super hard coating)',\n",
    " 'Case Diameter': 35.0,\n",
    " 'Case Thickness': 12.3,\n",
    " 'Lug Width': 11,\n",
    " 'Lug-to-Lug': 37.0,\n",
    " 'Dial Color': 'Enamel',\n",
    " 'Crystal Type': 'Box shaped sapphire crystal',\n",
    " 'Water Resistance': '5 bar',\n",
    " 'Movement': '6R5H',\n",
    " 'Caliber': '6R5H',\n",
    " 'Movement Type': 'Automatic with manual winding',\n",
    " 'Bracelet/Strap Material': 'Calfskin',\n",
    " 'Product Weight': '59.0g',\n",
    " 'Price': 1900,\n",
    " 'Photo URL': 'https://www.seikowatches.com/us-en/-/media/Images/Product--Image/All/Seiko/2023/10/16/11/57/SPB441J1/SPB441J1.png?mh=1000&mw=1000&hash=FED3D8AEDD94CFCC97DDA5671B158436',\n",
    " 'Merchant Name': 'Seiko Watch Corporation',\n",
    " 'Product URL': 'https://www.seikowatches.com/us-en/products/presage/spb441j1'}"
   ]
  },
  {
   "cell_type": "code",
   "execution_count": 7,
   "metadata": {},
   "outputs": [
    {
     "name": "stderr",
     "output_type": "stream",
     "text": [
      "2024-02-06 14:25:20,007:INFO - HTTP Request: POST https://gvvfniijngcyqnwvrbal.supabase.co/rest/v1/watches \"HTTP/1.1 409 Conflict\"\n"
     ]
    },
    {
     "name": "stdout",
     "output_type": "stream",
     "text": [
      "{'code': '23505', 'details': 'Key (\"Brand\", \"Reference Number\")=(Seiko, SPB441J1) already exists.', 'hint': None, 'message': 'duplicate key value violates unique constraint \"watches_pkey\"'}\n",
      "data=[{'Brand': 'Seiko', 'Model': 'SPB441J1', 'Reference Number': 'SPB441J1', 'Case Material': 'Stainless steel (super hard coating)', 'Case Diameter': 35, 'Case Thickness': 12.3, 'Lug Width': 11, 'Lug-to-Lug': 37, 'Dial Color': 'Enamel', 'Crystal Type': 'Box shaped sapphire crystal', 'Water Resistance': '5 bar', 'Movement': '6R5H', 'Caliber': '6R5H', 'Movement Type': 'Automatic with manual winding', 'Power Reserve': None, 'Bracelet/Strap Material': 'Calfskin', 'Clasp Type': None, 'Product Weight': '59.0g', 'Features': None, 'Price': 1900, 'Availability': None, 'Photo URL': 'https://www.seikowatches.com/us-en/-/media/Images/Product--Image/All/Seiko/2023/10/16/11/57/SPB441J1/SPB441J1.png?mh=1000&mw=1000&hash=FED3D8AEDD94CFCC97DDA5671B158436', 'Merchant Name': 'Seiko Watch Corporation', 'Product URL': 'https://www.seikowatches.com/us-en/products/presage/spb441j1'}] count=None\n"
     ]
    }
   ],
   "source": [
    "from supabase import create_client, Client\n",
    "\n",
    "# Supabase project details\n",
    "SUPABASE_URL = os.environ['SUPABASE_WATCHDB_URL']\n",
    "SUPABASE_KEY = os.environ['SUPABASE_WATCHDB_SERVICE_ROLE_KEY']\n",
    "\n",
    "supabase: Client = create_client(SUPABASE_URL, SUPABASE_KEY)\n",
    "\n",
    "# Your JSON data\n",
    "data = [\n",
    "    # Add your JSON objects here, e.g.,\n",
    "    test_json\n",
    "]\n",
    "\n",
    "# Push data to the 'watches' table\n",
    "try:\n",
    "    response = supabase.table(\"watches\").insert(data).execute()\n",
    "except Exception as e:\n",
    "    print(e)\n",
    "    print(response)\n",
    "# Check response\n",
    "# if response.error:\n",
    "#     print(f\"Error: {response.error.message}\")\n",
    "# else:\n",
    "#     print(\"Data pushed successfully\")\n"
   ]
  }
 ],
 "metadata": {
  "kernelspec": {
   "display_name": "base",
   "language": "python",
   "name": "python3"
  },
  "language_info": {
   "codemirror_mode": {
    "name": "ipython",
    "version": 3
   },
   "file_extension": ".py",
   "mimetype": "text/x-python",
   "name": "python",
   "nbconvert_exporter": "python",
   "pygments_lexer": "ipython3",
   "version": "3.11.5"
  }
 },
 "nbformat": 4,
 "nbformat_minor": 2
}
