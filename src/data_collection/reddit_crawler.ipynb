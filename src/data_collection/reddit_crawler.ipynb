{
 "cells": [
  {
   "cell_type": "code",
   "execution_count": 2,
   "metadata": {},
   "outputs": [
    {
     "name": "stdout",
     "output_type": "stream",
     "text": [
      "Lad wrote a Python script to download Alexa voice recordings, he didn't expect this email.\n",
      "This post has:\n",
      "I redesign the Python logo to make it more modern\n",
      "Automate the boring stuff with python - tinder\n",
      "Just finished programming and building my own smart mirror in python, wrote all of the code myself and implemented my own voice control and facial recognition features\n"
     ]
    }
   ],
   "source": [
    "import praw\n",
    "import os\n",
    "import json\n",
    "import time\n",
    "\n",
    "from supabase import create_client, Client\n",
    "\n",
    "# Supabase setup\n",
    "url: str = os.environ.get('SUPABASE_WATCHDB_URL')\n",
    "key: str = os.environ.get('SUPABASE_WATCHDB_SERVICE_ROLE_KEY')\n",
    "supabase: Client = create_client(url, key)\n",
    "\n",
    "# Reddit API Credentials\n",
    "client_id = os.environ.get('REDDIT_APP_ID')\n",
    "client_secret = os.environ.get('REDDIT_APP_KEY')\n",
    "user_agent = 'User-Agent:chrono-codex-server:v1 (by /u/ChronoCrawler)'\n",
    "\n",
    "# Initialize PRAW with your credentials\n",
    "reddit = praw.Reddit(client_id=client_id,\n",
    "                     client_secret=client_secret,\n",
    "                     user_agent=user_agent)\n"
   ]
  },
  {
   "cell_type": "code",
   "execution_count": 5,
   "metadata": {},
   "outputs": [
    {
     "name": "stderr",
     "output_type": "stream",
     "text": [
      "2024-02-06 17:53:19,214:INFO - HTTP Request: POST https://gvvfniijngcyqnwvrbal.supabase.co/rest/v1/rqueue \"HTTP/1.1 409 Conflict\"\n"
     ]
    },
    {
     "name": "stdout",
     "output_type": "stream",
     "text": [
      "Skipping insertion for post_id=1akq7lk as it already exists.\n"
     ]
    },
    {
     "name": "stderr",
     "output_type": "stream",
     "text": [
      "2024-02-06 17:53:19,456:INFO - HTTP Request: POST https://gvvfniijngcyqnwvrbal.supabase.co/rest/v1/rqueue \"HTTP/1.1 201 Created\"\n",
      "2024-02-06 17:53:19,743:INFO - HTTP Request: POST https://gvvfniijngcyqnwvrbal.supabase.co/rest/v1/rqueue \"HTTP/1.1 201 Created\"\n",
      "2024-02-06 17:53:20,017:INFO - HTTP Request: POST https://gvvfniijngcyqnwvrbal.supabase.co/rest/v1/rqueue \"HTTP/1.1 201 Created\"\n",
      "2024-02-06 17:53:20,316:INFO - HTTP Request: POST https://gvvfniijngcyqnwvrbal.supabase.co/rest/v1/rqueue \"HTTP/1.1 201 Created\"\n",
      "2024-02-06 17:53:20,715:INFO - HTTP Request: POST https://gvvfniijngcyqnwvrbal.supabase.co/rest/v1/rqueue \"HTTP/1.1 201 Created\"\n",
      "2024-02-06 17:53:20,948:INFO - HTTP Request: POST https://gvvfniijngcyqnwvrbal.supabase.co/rest/v1/rqueue \"HTTP/1.1 201 Created\"\n",
      "2024-02-06 17:53:21,310:INFO - HTTP Request: POST https://gvvfniijngcyqnwvrbal.supabase.co/rest/v1/rqueue \"HTTP/1.1 201 Created\"\n",
      "2024-02-06 17:53:21,584:INFO - HTTP Request: POST https://gvvfniijngcyqnwvrbal.supabase.co/rest/v1/rqueue \"HTTP/1.1 201 Created\"\n",
      "2024-02-06 17:53:21,863:INFO - HTTP Request: POST https://gvvfniijngcyqnwvrbal.supabase.co/rest/v1/rqueue \"HTTP/1.1 201 Created\"\n"
     ]
    }
   ],
   "source": [
    "# The subreddit you want to scrape\n",
    "subreddit = reddit.subreddit('watchexchange')\n",
    "\n",
    "# Initialize a list to store data before saving to disk\n",
    "data_list = []\n",
    "\n",
    "# Fetch the top posts from the subreddit\n",
    "top_posts = subreddit.top(time_filter=\"hour\", limit=10)  # Adjust limit as needed\n",
    "\n",
    "\n",
    "# Push the data collected to Supabase\n",
    "for post in top_posts:\n",
    "    post.comments.replace_more(limit=25)  # Load all comments\n",
    "    # comments = [{'userid': comment.author.name, 'comment': comment.body} for comment in post.comments.list()]\n",
    "    comments = ' | '.join([f\"{comment.author.name}: {comment.body}\" for comment in post.comments.list()])\n",
    "\n",
    "    post_data = {\n",
    "        'post_id': post.id,\n",
    "        'author_id': post.author.name,\n",
    "        'title': post.title,\n",
    "        'url': post.url,\n",
    "        'comments': comments\n",
    "    }\n",
    "    \n",
    "    try:\n",
    "        # Attempt to insert post_data into your Supabase table\n",
    "        data_insert_response = supabase.table('rqueue').insert(post_data).execute()\n",
    "    except Exception as e:\n",
    "        if 'duplicate key value violates unique constraint \"rqueue_pkey\"' in str(e):\n",
    "            print(f\"Skipping insertion for post_id={post_data['post_id']} as it already exists.\")\n",
    "        else:\n",
    "            raise\n"
   ]
  },
  {
   "cell_type": "code",
   "execution_count": 42,
   "metadata": {},
   "outputs": [],
   "source": [
    "from jsonschema import validate\n",
    "from jsonschema.exceptions import ValidationError\n",
    "\n",
    "\n",
    "def filter_invalid_entries(data, schema):\n",
    "    \"\"\"\n",
    "    Removes entries from the data that do not match the schema's type requirements.\n",
    "    \n",
    "    :param data: The JSON object to filter.\n",
    "    :param schema: The schema defining the expected types.\n",
    "    :return: A new dictionary with only the valid entries according to the schema.\n",
    "    \"\"\"\n",
    "    valid_data = {}\n",
    "    for key, value in data.items():\n",
    "        expected_type = schema.get(\"properties\", {}).get(key, {}).get(\"type\", None)\n",
    "        if expected_type:\n",
    "            if expected_type == \"number\" and value is not None:\n",
    "                print(key,value)\n",
    "                try:\n",
    "                    converted_value = int(value)\n",
    "                except ValueError:\n",
    "                    try:\n",
    "                        converted_value = float(value)\n",
    "                    except ValueError:\n",
    "                        continue\n",
    "                valid_data[key] = converted_value\n",
    "            elif expected_type == \"string\" and isinstance(value, str):\n",
    "                valid_data[key] = value\n",
    "    return valid_data\n",
    "\n",
    "\n",
    "\n",
    "def validate_schema(data: dict):\n",
    "    # This code validates the schema of the provided JSON data\n",
    "    # and drops any entries that do not match the schema, effectively\n",
    "    # filtering out incorrect data.\n",
    "\n",
    "    # Load the schema\n",
    "    with open('watch_schema.json', 'r') as file:\n",
    "        schema = json.load(file)\n",
    "\n",
    "    json_data = filter_invalid_entries(data, schema)\n",
    "\n",
    "    # Validate the JSON, on failure throw exception\n",
    "    validate(instance=json_data, schema=schema)\n",
    "    return json_data  \n",
    "    \n"
   ]
  },
  {
   "cell_type": "code",
   "execution_count": 44,
   "metadata": {},
   "outputs": [
    {
     "name": "stdout",
     "output_type": "stream",
     "text": [
      "{'Brand': 'Breitling', 'Model': 'SuperOcean II 36', 'Reference Number': 'A17312', 'Case Material': 'Not specified', 'Case Diameter': None, 'Case Thickness': None, 'Lug Width': None, 'Lug-to-Lug': None, 'Dial Color': 'Not specified', 'Crystal Type': 'Not specified', 'Water Resistance': 'Not specified', 'Movement': 'Not specified', 'Caliber': 'Not specified', 'Movement Type': 'Not specified', 'Power Reserve': 'Not specified', 'Bracelet/Strap Material': 'Not specified', 'Clasp Type': 'Not specified', 'Product Weight': 'Not specified', 'Features': 'Completely full kit with watch roll. 2016 year.', 'Price': 1699, 'Availability': 'Zelle, Venmo, or WU accepted', 'Photo URL': 'https://imgur.com/a/Quq7MB9', 'Merchant Name': 'Pristine_Courage_535', 'Product URL': 'https://www.reddit.com/r/Watchexchange/comments/1akq7lk/wts_breitling_superocean_a17312_white_full_kit/'}\n",
      "Price 1699\n"
     ]
    },
    {
     "data": {
      "text/plain": [
       "{'Brand': 'Breitling',\n",
       " 'Model': 'SuperOcean II 36',\n",
       " 'Reference Number': 'A17312',\n",
       " 'Case Material': 'Not specified',\n",
       " 'Dial Color': 'Not specified',\n",
       " 'Crystal Type': 'Not specified',\n",
       " 'Water Resistance': 'Not specified',\n",
       " 'Movement': 'Not specified',\n",
       " 'Caliber': 'Not specified',\n",
       " 'Movement Type': 'Not specified',\n",
       " 'Power Reserve': 'Not specified',\n",
       " 'Bracelet/Strap Material': 'Not specified',\n",
       " 'Clasp Type': 'Not specified',\n",
       " 'Product Weight': 'Not specified',\n",
       " 'Features': 'Completely full kit with watch roll. 2016 year.',\n",
       " 'Price': 1699,\n",
       " 'Availability': 'Zelle, Venmo, or WU accepted',\n",
       " 'Photo URL': 'https://imgur.com/a/Quq7MB9',\n",
       " 'Merchant Name': 'Pristine_Courage_535',\n",
       " 'Product URL': 'https://www.reddit.com/r/Watchexchange/comments/1akq7lk/wts_breitling_superocean_a17312_white_full_kit/'}"
      ]
     },
     "execution_count": 44,
     "metadata": {},
     "output_type": "execute_result"
    }
   ],
   "source": [
    "response_json = json.loads(response.choices[0].message.content)\n",
    "print(response_json)\n",
    "validated_response = validate_schema(response_json)\n",
    "validated_response"
   ]
  },
  {
   "cell_type": "code",
   "execution_count": 48,
   "metadata": {},
   "outputs": [
    {
     "name": "stderr",
     "output_type": "stream",
     "text": [
      "2024-02-07 11:37:51,075:INFO - HTTP Request: GET https://gvvfniijngcyqnwvrbal.supabase.co/rest/v1/rqueue?select=%2A&processed=eq.False&limit=1 \"HTTP/1.1 200 OK\"\n",
      "2024-02-07 11:37:51,152:INFO - HTTP Request: PATCH https://gvvfniijngcyqnwvrbal.supabase.co/rest/v1/rqueue?post_id=eq.1akqglv \"HTTP/1.1 200 OK\"\n"
     ]
    },
    {
     "name": "stdout",
     "output_type": "stream",
     "text": [
      "<class 'postgrest.base_request_builder.APIResponse'>\n",
      "data=[{'created_at': '2024-02-07T01:53:19.464226+00:00', 'post_id': '1akqglv', 'author_id': 'liuserr', 'title': '[WTS] Sinn 356 on OEM Leather strap', 'url': 'https://i.redd.it/18ictee7d2hc1.jpeg', 'comments': 'AutoModerator: * u/liuserr has 149 Transactions and [this 7-day post history](https://www.reddit.com/r/Watchexchange/wiki/user_post_history/liuserr).\\n* [Click send on this message](https://www.reddit.com/message/compose/?to=WatchExBot&subject=Feedback_Check&message=u/liuserr) to get a detailed look at this user\\'s transaction history. \\n  * If the above link doesn\\'t work, send a message containing the username (starting with u/) to the bot, `WatchExBot`\\n* This post: \"[[WTS] Sinn 356 on OEM Leather strap](https://www.reddit.com/r/Watchexchange/comments/1akqglv/wts_sinn_356_on_oem_leather_strap/)\"  \\n\\n---\\n\\n**This post may be removed without notice if it does not follow the rules!**\\n\\n* **Pictures** are required. Do you have pictures?    \\n* A **timestamp** is required. Do you have a ***handwritten timestamp*** under your item(s)?  \\n* A **price** or trade value is required. Do you have a price?   \\n         \\nIf you make a mistake in your post, ***do not delete and repost.*** Message the mods *first* or your post may be removed and you\\'ll have to wait 7 days to repost.\\n\\n---\\n\\n[Click here](https://www.reddit.com/r/Watchexchange/comments/ihs99w/meta_new_flairbased_feedback/) to learn how to leave feedback that updates your transaction flair.\\n\\n**Avoid banned or unqualified users; do not deal with anyone unless they comment on this thread.**   \\n         \\nIf you believe you have been scammed, please [fill out this form](https://www.reddit.com/message/compose/?to=r/Watchexchange&subject=I%20Think%20I%20Have%20Been%20Scammed&message=*%20Username%20of%20the%20person%20scamming%20me:%20%0D%0A%0D%0A*%20Link%20to%20the%20thread%20where%20the%20transaction%20originated:%20%0D%0A%0D%0A*%20Link%20to%20screenshots%20uploaded%20to%20imgur%20of%20my%20conversations%20with%20the%20scammer:%20%0D%0A%0D%0A*%20An%20explanation%20of%20the%20situation:%20).\\n\\nThe presence of this message does **not** indicate a need to message the moderators. \\n\\n\\n*I am a bot, and this action was performed automatically. Please [contact the moderators of this subreddit](/message/compose/?to=/r/Watchexchange) if you have any questions or concerns.* | liuserr: For sale is a Sinn 356 that comes on an unworn leather strap. I\\'m selling it because a chronograph is a little too frail for everyday wear. The watch comes on a sandblasted case with very little signs of wear. I believe the day is slightly misaligned, but not by a terrible amount if so as I can barely tell when scrolling through the days.\\n\\nThe watch comes on its OEM black leather strap that has not been worn - there are no creases on the strap holes. It also comes with the inner and outer boxes, instruction manual, and warranty card dated: Jan 2020.\\n\\nModel: Sinn 356 Movement: SW-500 Case Size: 38.5mm Case Thickness: 15mm Lug Width: 20mm Lug to lug: 46mm Water resistance: 100 meters\\n\\nAlbum: https://imgur.com/a/Lbafeue \\nTimestamp: https://i.imgur.com/9OYeF6O.jpg\\n\\nPrice: $1700 shipped CONUS via Zelle, wire transfer, or Paypal F&F for established members. Face to face in the Bay Area is welcomed.\\n\\nNo trades please.', 'processed': False}] count=None\n",
      "Case Diameter 38.5\n",
      "Case Thickness 15\n",
      "Lug Width 20\n",
      "Lug-to-Lug 46\n",
      "Price 1700\n"
     ]
    }
   ],
   "source": [
    "from openai import OpenAI\n",
    "import os\n",
    "import json\n",
    "\n",
    "# Set the API key\n",
    "client = OpenAI(\n",
    "    api_key= os.environ.get('OPENAI_API_CHRONO_KEY')\n",
    ")\n",
    "\n",
    "with open('query_schema.json') as f:\n",
    "    output_schema_str = f.read()\n",
    "\n",
    "# Fetch data from Supabase queue\n",
    "try:\n",
    "    queue_data = supabase.table('rqueue').select('*').eq('processed', False).limit(1).execute()\n",
    "    if len(queue_data.data) < 2:  # Fixed to check for non-empty data\n",
    "        for item in queue_data.data:\n",
    "            relevant_data = {key: item[key] for key in [\"author_id\", \"title\", \"url\", \"comments\"]}\n",
    "            item_json = json.dumps(relevant_data)\n",
    "            prompt = f\"Given the data: {item_json}, construct a JSON object that adheres to the specified output schema. Output schema: {output_schema_str}\"\n",
    "            try:\n",
    "                response = client.chat.completions.create( \n",
    "                    model=\"gpt-3.5-turbo-0125\", \n",
    "                    response_format={ \"type\": \"json_object\" },\n",
    "                    messages=[{\"role\": \"system\", \"content\": \"You are a helpful assistant that outputs valid JSON.>\"}, \n",
    "                                {\"role\": \"user\", \"content\": prompt}],\n",
    "                )\n",
    "                try:\n",
    "                    response_json = json.loads(response.choices[0].message.content)\n",
    "                except Exception as e:\n",
    "                    print(\"Error in openai response: \", e)\n",
    "\n",
    "                try:\n",
    "                    validated_response = validate_schema(response_json)\n",
    "                    try:\n",
    "                        # supabase.table(\"watches\").insert([validated_response]).execute()\n",
    "                        supabase.table(\"rqueue\").update({\"processed\": True}).eq(\"post_id\", item[\"post_id\"]).execute()\n",
    "                    except Exception as e:\n",
    "                        print(f\"Failed to push to supabase (watches): {e}\")\n",
    "                except Exception as e:\n",
    "                    print(f\"current response could not be validated: {e}\")\n",
    "                \n",
    "            except Exception as e:\n",
    "                print(f\"An OpenAI error occurred: {e}\")\n",
    "        \n",
    "\n",
    "except Exception as e:\n",
    "    print(f\"Failed to fetch data from Supabase (rqueue): {e}\")\n"
   ]
  },
  {
   "cell_type": "code",
   "execution_count": null,
   "metadata": {},
   "outputs": [],
   "source": []
  }
 ],
 "metadata": {
  "kernelspec": {
   "display_name": "base",
   "language": "python",
   "name": "python3"
  },
  "language_info": {
   "codemirror_mode": {
    "name": "ipython",
    "version": 3
   },
   "file_extension": ".py",
   "mimetype": "text/x-python",
   "name": "python",
   "nbconvert_exporter": "python",
   "pygments_lexer": "ipython3",
   "version": "3.11.5"
  }
 },
 "nbformat": 4,
 "nbformat_minor": 2
}
